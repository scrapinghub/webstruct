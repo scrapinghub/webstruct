{
 "metadata": {
  "name": "test-nl-openhours-parser"
 },
 "nbformat": 3,
 "nbformat_minor": 0,
 "worksheets": [
  {
   "cells": [
    {
     "cell_type": "code",
     "collapsed": false,
     "input": [
      "sys.path.insert(0, '../../webstruct//')\n",
      "\n",
      "import wapiti\n",
      "from sklearn.externals import joblib\n",
      "from urllib2 import urlopen\n",
      "from w3lib.encoding import html_to_unicode\n",
      "from webstruct.wapiti import WapitiChunker\n",
      "\n",
      "feature_extractor = joblib.load('nl-openhoursparser-fe.joblib')\n",
      "feature_encoder = joblib.load('nl-openhoursparser-wfe.joblib')\n",
      "wapiti_model = wapiti.Model(model='nl-open-hours.wapiti')\n",
      "ner = WapitiChunker(wapiti_model, feature_encoder, feature_extractor=feature_extractor)\n",
      "\n",
      "url = 'http://www.rug.nl/bibliotheek/services/bibcmb/contact/'\n",
      "url ='http://www.hanos.nl/Horeca-groothandels/Nijmegen.htm'\n",
      "url = 'http://www.eindhovenairport.com/en/at-the-airport/openingstijden-terminal/'\n",
      "url = 'http://www.uu.nl/faculty/socialsciences/nl/organisatie/diensten/hs/huisvesting/locatie/Pages/default.aspx'\n",
      "url = 'http://www.palazzolelystad.nl/winkels/'\n",
      "url = 'http://dralfietsen.nl/contact-route/'\n",
      "\n",
      "html = urlopen(url=url).read()\n",
      "html = html_to_unicode(None, html)[1]\n",
      "\n",
      "for text, label in ner.transform(html):\n",
      "    if label != 'O':\n",
      "        print text, label\n",
      "    "
     ],
     "language": "python",
     "metadata": {},
     "outputs": [
      {
       "output_type": "stream",
       "stream": "stdout",
       "text": [
        "ma t/m do 07.15 - 22.00 vr 07.15 - 20.30 uur HOURS\n",
        "ma t/m do 07.15 - 22.00 vr 07.15 - 20.30 uur HOURS\n",
        "ma t/m do 07.15 - 22.00 vr 07.15 - 20.30 uur HOURS\n",
        "ma t/m do 07.15 - 22.00 vr 07.15 - 20.30 uur HOURS\n",
        "ma t/m do 07.15 - 22.00 vr 07.15 - 20.30 uur HOURS\n"
       ]
      }
     ],
     "prompt_number": 35
    },
    {
     "cell_type": "code",
     "collapsed": false,
     "input": [],
     "language": "python",
     "metadata": {},
     "outputs": []
    }
   ],
   "metadata": {}
  }
 ]
}