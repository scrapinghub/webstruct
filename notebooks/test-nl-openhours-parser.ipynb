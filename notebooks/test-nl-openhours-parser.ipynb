{
 "metadata": {
  "name": "test-nl-openhours-parser"
 },
 "nbformat": 3,
 "nbformat_minor": 0,
 "worksheets": [
  {
   "cells": [
    {
     "cell_type": "code",
     "collapsed": false,
     "input": [
      "import wapiti\n",
      "from sklearn.externals import joblib\n",
      "from urllib2 import urlopen\n",
      "from w3lib.encoding import html_to_unicode\n",
      "from wapiti import Model\n",
      "\n",
      "sys.path.insert(0, '../token_model/')\n",
      "\n",
      "m = Model(model='nl-open-hours.wapiti')\n",
      "    \n",
      "fe = joblib.load('nl-fe.joblib')\n",
      "we = joblib.load('nl-wfe.joblib')\n",
      "\n",
      "url = 'http://www.rug.nl/bibliotheek/services/bibcmb/contact/'\n",
      "url ='http://www.hanos.nl/Horeca-groothandels/Nijmegen.htm'\n",
      "url = 'http://www.eindhovenairport.com/en/at-the-airport/openingstijden-terminal/'\n",
      "url = 'http://www.uu.nl/faculty/socialsciences/nl/organisatie/diensten/hs/huisvesting/locatie/Pages/default.aspx'\n",
      "url = 'http://www.palazzolelystad.nl/winkels/'\n",
      "url = 'http://dralfietsen.nl/contact-route/'\n",
      "\n",
      "html = urlopen(url=url).read()\n",
      "html = html_to_unicode(None, html)[1]\n",
      "\n",
      "features, labels = fe.fit_transform(html)\n",
      "lines = we.transform(features)\n",
      "r = m.label_sequence(\"\\n\".join(lines)).splitlines()\n",
      "for line in r:\n",
      "    token, tag = line.split()[0], line.split()[-1]\n",
      "    if tag != 'O':\n",
      "        if tag.startswith('B'):\n",
      "            print \n",
      "        print token, tag"
     ],
     "language": "python",
     "metadata": {},
     "outputs": [
      {
       "output_type": "stream",
       "stream": "stdout",
       "text": [
        "\n",
        "Maandag: B-HOURS\n",
        "13:00 I-HOURS\n",
        "\u2013 I-HOURS\n",
        "17:30 I-HOURS\n",
        "Dinsdag: I-HOURS\n",
        "8:00 I-HOURS\n",
        "\u2013 I-HOURS\n",
        "17:30 I-HOURS\n",
        "Woensdag: I-HOURS\n",
        "8:00 I-HOURS\n",
        "\u2013 I-HOURS\n",
        "17:30 I-HOURS\n",
        "Donderdag: I-HOURS\n",
        "8:00 I-HOURS\n",
        "\u2013 I-HOURS\n",
        "17:30 I-HOURS\n",
        "Vrijdag: I-HOURS\n",
        "8:00 I-HOURS\n",
        "17:30 I-HOURS\n",
        "Zaterdag: I-HOURS\n",
        "8:30 I-HOURS\n",
        "16:00 I-HOURS\n",
        "\n",
        "Maandag: B-HOURS\n",
        "13:00 I-HOURS\n",
        "\u2013 I-HOURS\n",
        "18:00 I-HOURS\n",
        "Dinsdag: I-HOURS\n",
        "8:30 I-HOURS\n",
        "\u2013 I-HOURS\n",
        "18:00 I-HOURS\n",
        "Woensdag: I-HOURS\n",
        "8:30 I-HOURS\n",
        "\u2013 I-HOURS\n",
        "18:00 I-HOURS\n",
        "Donderdag: I-HOURS\n",
        "8:30 I-HOURS\n",
        "\u2013 I-HOURS\n",
        "18:00 I-HOURS\n",
        "Vrijdag: I-HOURS\n",
        "8:30 I-HOURS\n",
        "\u2013 I-HOURS\n",
        "18:00 I-HOURS\n",
        "Zaterdag: I-HOURS\n",
        "8:30 I-HOURS\n",
        "\u2013 I-HOURS\n",
        "16:00 I-HOURS\n"
       ]
      }
     ],
     "prompt_number": 29
    },
    {
     "cell_type": "code",
     "collapsed": false,
     "input": [],
     "language": "python",
     "metadata": {},
     "outputs": []
    }
   ],
   "metadata": {}
  }
 ]
}